{
 "cells": [
  {
   "cell_type": "markdown",
   "id": "162ee9ce-280a-44ef-afdf-a62129327ccf",
   "metadata": {},
   "source": [
    "MongoDB is a non-realational document-oriented database system.Unlike SQL database,which use a tabular structure,MongoDB stores data in flexible,JSON-like documents,allowing for dynamic schemes and scalability.It is preferred in scenarios where there's a need for handling large amount of unstructured or semi-structured data,and when flexiblity in schema design is crucial .\n",
    "MomgoDB excels in applications with rapidly evolving data model or those requiring horizontal scaling,likec content management systems,real-time big data applications,and mobile apps."
   ]
  },
  {
   "cell_type": "markdown",
   "id": "94e5a351-affa-4b23-9516-553012d17dca",
   "metadata": {},
   "source": [
    "MongoDB is a popular NOSQL database that provides flexiblity and scalability here are some key features:"
   ]
  },
  {
   "cell_type": "markdown",
   "id": "b2e1db65-19c7-4bc3-bb7f-903e506424f8",
   "metadata": {},
   "source": [
    "1. Document-Orinted:MongoDB stores data in flexible JSON-like BSON(binary JSON)documents,making it easy to represent complex hierachical relationship."
   ]
  },
  {
   "cell_type": "markdown",
   "id": "c1e174a6-fc38-4c3e-a717-8698a636a3fa",
   "metadata": {},
   "source": [
    "2. Schema-less:unlike tradition relation database ,MongoDB is schem -less .allowing you to insert fields without predefining the structuer. the flexibilty is benificial for envolving data models."
   ]
  },
  {
   "cell_type": "markdown",
   "id": "6964faa0-1dbf-4e14-9622-e207aa78bf58",
   "metadata": {},
   "source": [
    "3. Indexing:Mongodb supports secondry indexes,which can signficantly improve query performance by allowing faster data retrieveal"
   ]
  },
  {
   "cell_type": "markdown",
   "id": "8be5317f-f94e-424e-ab8c-4b92fdefc69c",
   "metadata": {},
   "source": [
    "4. Query Language:MongoDB provides a powerful query language,support for field range queries,and regular expressions.\n",
    "Queries can also be expressed as java script function"
   ]
  },
  {
   "cell_type": "markdown",
   "id": "18efdd49-6269-4937-8b4a-11833c781940",
   "metadata": {},
   "source": [
    "5. Aggregation Framework:Allows for powerful data aggregation and transformation operation"
   ]
  },
  {
   "cell_type": "markdown",
   "id": "1fa21c5a-0524-44c1-bc0b-87bbd210b747",
   "metadata": {},
   "source": [
    "6. Horizontal Scalability: supports horizontal scaling through sharding,distributing data across multiple servers.Enable handling large amounts of data and high traffic."
   ]
  },
  {
   "cell_type": "markdown",
   "id": "b5c3bf8b-246f-44a7-92ff-5b63e0317d9c",
   "metadata": {},
   "source": [
    "7. Replication:offers automatic and configurable data replication for high avilability.Ensure data redundancy and fault tolerance."
   ]
  },
  {
   "cell_type": "markdown",
   "id": "807eee14-a579-4b27-8bdc-e2c7fb9c55b2",
   "metadata": {},
   "source": [
    "8. Geospatial Indexing:has built-in support for geospatial indexing and queries.useful for location-based aplications."
   ]
  },
  {
   "cell_type": "markdown",
   "id": "f9c14070-1e1f-43ad-b17f-dc1b6845b750",
   "metadata": {},
   "source": [
    "9. GridFS: A specification for storing large file,like images or videos,in MongoDB.Allows efficent streaming of large files"
   ]
  },
  {
   "cell_type": "markdown",
   "id": "3ccd46be-dc89-469e-a3c8-41a9e867c7dd",
   "metadata": {},
   "source": [
    "10. Map Reduce: supports map-reduce for batch processing and aggregation. useful for complex data processing tasks"
   ]
  },
  {
   "cell_type": "code",
   "execution_count": 1,
   "id": "3c08affc-eeda-40c5-96d4-8203e8f881d3",
   "metadata": {},
   "outputs": [
    {
     "name": "stdout",
     "output_type": "stream",
     "text": [
      "Collecting pymongo\n",
      "  Downloading pymongo-4.6.1-cp310-cp310-manylinux_2_17_x86_64.manylinux2014_x86_64.whl (677 kB)\n",
      "\u001b[2K     \u001b[90m━━━━━━━━━━━━━━━━━━━━━━━━━━━━━━━━━━━━━━\u001b[0m \u001b[32m677.1/677.1 kB\u001b[0m \u001b[31m13.9 MB/s\u001b[0m eta \u001b[36m0:00:00\u001b[0ma \u001b[36m0:00:01\u001b[0m\n",
      "\u001b[?25hCollecting dnspython<3.0.0,>=1.16.0\n",
      "  Downloading dnspython-2.4.2-py3-none-any.whl (300 kB)\n",
      "\u001b[2K     \u001b[90m━━━━━━━━━━━━━━━━━━━━━━━━━━━━━━━━━━━━━━\u001b[0m \u001b[32m300.4/300.4 kB\u001b[0m \u001b[31m36.9 MB/s\u001b[0m eta \u001b[36m0:00:00\u001b[0m\n",
      "\u001b[?25hInstalling collected packages: dnspython, pymongo\n",
      "Successfully installed dnspython-2.4.2 pymongo-4.6.1\n",
      "Note: you may need to restart the kernel to use updated packages.\n"
     ]
    }
   ],
   "source": [
    "pip install pymongo"
   ]
  },
  {
   "cell_type": "code",
   "execution_count": 3,
   "id": "14f0b6b1-db68-4df0-9f7c-7e5eac32528d",
   "metadata": {},
   "outputs": [
    {
     "ename": "SyntaxError",
     "evalue": "unterminated string literal (detected at line 4) (40161520.py, line 4)",
     "output_type": "error",
     "traceback": [
      "\u001b[0;36m  Cell \u001b[0;32mIn[3], line 4\u001b[0;36m\u001b[0m\n\u001b[0;31m    mongo_uri = \"mongodb+srv://<username>:\u001b[0m\n\u001b[0m                ^\u001b[0m\n\u001b[0;31mSyntaxError\u001b[0m\u001b[0;31m:\u001b[0m unterminated string literal (detected at line 4)\n"
     ]
    }
   ],
   "source": [
    "import pymongo\n",
    "\n",
    "# Replace these values with your MongoDB connection string\n",
    "mongo_uri = \"mongodb+srv://<username>:\n",
    "<password>@cluster.mongodb.net/test\"\n",
    "\n",
    "# Connect to Mongodb\n",
    "client = pymongo.MongoClient(mongo_uri)\n",
    "\n",
    "# Create or acess a database\n",
    "database_name = \"mydatabase\"\n",
    "database = client[database_name]\n",
    "\n",
    "# Create or access a collection within the database\n",
    "collection_name = \"mycollection\"\n",
    "collection = database[collection_name]\n",
    "\n",
    "# Sample document to insert into the collection\n",
    "sample_document = {\n",
    "    \"name\": \"john Doe\",\n",
    "    \"age\": 30,\n",
    "    \"city\": \"Example city\"\n",
    "}\n",
    "\n",
    "# Insert the document into the collection\n",
    "insert_result =collection.insert_one(sample_document)\n",
    "\n",
    "# Print the inserted document's ID\n",
    "print(\"Inserted document ID:\",\n",
    "      insert_result.inserted_id)\n",
    "\n",
    "# Close the Mongodb connection\n",
    "client.close()"
   ]
  },
  {
   "cell_type": "code",
   "execution_count": 4,
   "id": "e0921b7a-5e4f-4ae0-9ba5-c289090fecb0",
   "metadata": {},
   "outputs": [
    {
     "ename": "SyntaxError",
     "evalue": "unterminated string literal (detected at line 4) (4002001202.py, line 4)",
     "output_type": "error",
     "traceback": [
      "\u001b[0;36m  Cell \u001b[0;32mIn[5], line 4\u001b[0;36m\u001b[0m\n\u001b[0;31m    mongo_uri = \"mongodb+srv://<username>:\u001b[0m\n\u001b[0m                ^\u001b[0m\n\u001b[0;31mSyntaxError\u001b[0m\u001b[0;31m:\u001b[0m unterminated string literal (detected at line 4)\n"
     ]
    }
   ],
   "source": [
    "import pymongo\n",
    "\n",
    "# Replace these values with your MongoDB connection string\n",
    "mongo_uri = \"mongodb+srv://<username>:\n",
    "<password>@cluster.mongodb.net/test\"\n",
    "\n",
    "# Connect to Mongodb\n",
    "client = pymongo.MongoClient(mongo_uri)\n",
    "\n",
    "# Create or acess a database\n",
    "database_name = \"mydatabase\"\n",
    "database = client[database_name]\n",
    "\n",
    "# Create or access a collection within the database\n",
    "collection_name = \"mycollection\"\n",
    "collection = database[collection_name]\n",
    "\n",
    "# Insert one record\n",
    "one_record = {\"name\": \"Alice\",\n",
    "              \"age\":25,\"city\": \"wonderland\"}\n",
    "result_one = collection.insert_one(one_record)\n",
    "\n",
    "# Insert many records\n",
    "many_records = [\n",
    "    {\"name\": \"Bob\",\"age\": 30,\"city\": \"Bobsville\"},\n",
    "    {\"name\": \"Charlie\", \"age\":35,\"city\":\"Charlietown\"},\n",
    "    {\"name\":\"David\", \"age\":40,\"city\":\"David City\"}\n",
    "]\n",
    "result_many = collection.insert_many(many_records)\n",
    "\n",
    "# Print inserted record using find_one\n",
    "print(\"Inserted one Record:\")\n",
    "print(collection.find_one({\"_id\":\n",
    "result_one.inserted.id}))\n",
    "\n",
    "# Print inserted records using find\n",
    "print(\"inserted Many Records:\")\n",
    "for record in\n",
    "collection.find({\"_id\":{\"$in\":\n",
    "result_many.inserted_ids})):\n",
    "print(record)\n",
    "                 \n",
    "# Close the MongoDB connection\n",
    "client.close()\n"
   ]
  },
  {
   "cell_type": "code",
   "execution_count": 6,
   "id": "cecce08e-b5b2-4291-931b-a24be5e6f0e2",
   "metadata": {},
   "outputs": [
    {
     "ename": "SyntaxError",
     "evalue": "unterminated string literal (detected at line 4) (2910001541.py, line 4)",
     "output_type": "error",
     "traceback": [
      "\u001b[0;36m  Cell \u001b[0;32mIn[6], line 4\u001b[0;36m\u001b[0m\n\u001b[0;31m    mongo_uri = \"mongodb+srv://<username>:\u001b[0m\n\u001b[0m                ^\u001b[0m\n\u001b[0;31mSyntaxError\u001b[0m\u001b[0;31m:\u001b[0m unterminated string literal (detected at line 4)\n"
     ]
    }
   ],
   "source": [
    "import pymongo\n",
    "\n",
    "# Replace these values with your MongoDB connection string\n",
    "mongo_uri = \"mongodb+srv://<username>:\n",
    "<password>@cluster.mongodb.net/test\"\n",
    "\n",
    "# Connect to Mongodb\n",
    "client = pymongo.MongoClient(mongo_uri)\n",
    "\n",
    "# Create or acess a database\n",
    "database_name = \"mydatabase\"\n",
    "database = client[database_name]\n",
    "\n",
    "# Create or access a collection within the database\n",
    "collection_name = \"mycollection\"\n",
    "collection = database[collection_name]\n",
    "\n",
    "# Insert one record\n",
    "one_record = {\"name\": \"Alice\",\n",
    "              \"age\":25,\"city\": \"wonderland\"}\n",
    "result_one = collection.insert_one(one_record)\n",
    "\n",
    "# Insert many records\n",
    "many_records = [\n",
    "    {\"name\": \"Bob\",\"age\": 30,\"city\": \"Bobsville\"},\n",
    "    {\"name\": \"Charlie\", \"age\":35,\"city\":\"Charlietown\"},\n",
    "    {\"name\":\"David\", \"age\":40,\"city\":\"David City\"}\n",
    "]\n",
    "result_many = collection.insert_many(many_records)\n",
    "\n",
    "# Query using Find() with() criteria\n",
    "query_criteria = {\"age\": {\"$gte\":30}}\n",
    "# Find documents where age is greater than or equal to 30\n",
    "result = collection.find(query_criteria)\n",
    "\n",
    "# Print the matched documents\n",
    "print(\"Matching Documents:\")\n",
    "for document in result:\n",
    "    print(document)\n",
    "    \n",
    "# Close the mongodb connection\n",
    "client.close()\n"
   ]
  },
  {
   "cell_type": "markdown",
   "id": "756f7f9c-1872-47bc-a2f4-22c9e4ea9be1",
   "metadata": {},
   "source": [
    "The sort() method in Mongodb is used to sort the documents in a collection based on one or more fields.it allow you to specify the sorting order for each field and you can choose to sort m ascending(1) or descending(-1) order"
   ]
  },
  {
   "cell_type": "markdown",
   "id": "22730468-a240-4d19-b279-2ec6fe67a094",
   "metadata": {},
   "source": [
    "* Basic syntax for sort"
   ]
  },
  {
   "cell_type": "code",
   "execution_count": 8,
   "id": "f196d3fe-ea32-4a99-9f2b-a1a52d43ba5c",
   "metadata": {},
   "outputs": [
    {
     "ename": "SyntaxError",
     "evalue": "invalid syntax (111111052.py, line 1)",
     "output_type": "error",
     "traceback": [
      "\u001b[0;36m  Cell \u001b[0;32mIn[8], line 1\u001b[0;36m\u001b[0m\n\u001b[0;31m    cursor =\u001b[0m\n\u001b[0m             ^\u001b[0m\n\u001b[0;31mSyntaxError\u001b[0m\u001b[0;31m:\u001b[0m invalid syntax\n"
     ]
    }
   ],
   "source": [
    "cursor = \n",
    "collection.find(query_criteria).sort(sort_criteria)"
   ]
  },
  {
   "cell_type": "markdown",
   "id": "2f95ecef-db2e-4c74-95d1-4b1937f86de4",
   "metadata": {},
   "source": [
    "1. delete_one(filter) method\n",
    "* purpose:Delete a single document that matches the specified filter criteria\n",
    "* use case: useful when you want to remove a specfic document form a collection based on certain condtions"
   ]
  },
  {
   "cell_type": "code",
   "execution_count": null,
   "id": "2ed7720a-8549-4058-b5ee-f38bc7317b9d",
   "metadata": {},
   "outputs": [],
   "source": [
    "result = collection.delete_one({\"name\":\"Alice\"}"
   ]
  }
 ],
 "metadata": {
  "kernelspec": {
   "display_name": "Python 3 (ipykernel)",
   "language": "python",
   "name": "python3"
  },
  "language_info": {
   "codemirror_mode": {
    "name": "ipython",
    "version": 3
   },
   "file_extension": ".py",
   "mimetype": "text/x-python",
   "name": "python",
   "nbconvert_exporter": "python",
   "pygments_lexer": "ipython3",
   "version": "3.10.8"
  }
 },
 "nbformat": 4,
 "nbformat_minor": 5
}
